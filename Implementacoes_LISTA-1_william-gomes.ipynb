{
  "nbformat": 4,
  "nbformat_minor": 0,
  "metadata": {
    "colab": {
      "name": "Implementacoes-william_gomes.ipynb",
      "provenance": [],
      "authorship_tag": "ABX9TyOs4zsX/qvn41oHYSwvUsyT",
      "include_colab_link": true
    },
    "kernelspec": {
      "name": "python3",
      "display_name": "Python 3"
    }
  },
  "cells": [
    {
      "cell_type": "markdown",
      "metadata": {
        "id": "view-in-github",
        "colab_type": "text"
      },
      "source": [
        "<a href=\"https://colab.research.google.com/github/williamgomes62/introduction-to-optimization/blob/main/Implementacoes_LISTA-1_william-gomes.ipynb\" target=\"_parent\"><img src=\"https://colab.research.google.com/assets/colab-badge.svg\" alt=\"Open In Colab\"/></a>"
      ]
    },
    {
      "cell_type": "markdown",
      "metadata": {
        "id": "5Bz580Ysm8kw"
      },
      "source": [
        "## Instalação da Mip e imports\r\n",
        "\r\n"
      ]
    },
    {
      "cell_type": "code",
      "metadata": {
        "colab": {
          "base_uri": "https://localhost:8080/"
        },
        "id": "b-AoZzIAkEY2",
        "outputId": "51a7d50c-647c-446c-d1b2-36ddf3209a5b"
      },
      "source": [
        "!pip install mip"
      ],
      "execution_count": 1,
      "outputs": [
        {
          "output_type": "stream",
          "text": [
            "Requirement already satisfied: mip in /usr/local/lib/python3.6/dist-packages (1.13.0)\n",
            "Requirement already satisfied: cffi in /usr/local/lib/python3.6/dist-packages (from mip) (1.14.4)\n",
            "Requirement already satisfied: pycparser in /usr/local/lib/python3.6/dist-packages (from cffi->mip) (2.20)\n"
          ],
          "name": "stdout"
        }
      ]
    },
    {
      "cell_type": "code",
      "metadata": {
        "id": "jfB6gLsxkMGC"
      },
      "source": [
        "from mip import Model, xsum, INTEGER, CONTINUOUS, MAXIMIZE, MINIMIZE"
      ],
      "execution_count": 2,
      "outputs": []
    },
    {
      "cell_type": "markdown",
      "metadata": {
        "id": "7hg43dinneMJ"
      },
      "source": [
        "## 2.a) O Problema da Estampagem de Aço"
      ]
    },
    {
      "cell_type": "code",
      "metadata": {
        "id": "xz7489qykOTM"
      },
      "source": [
        "nvars = 2\r\n",
        "obj_coef = [15, 40] \r\n",
        "g_coef = [[1,4],\r\n",
        "          [1,-4]]\r\n",
        "g_val = [4080,0]\r\n",
        "\r\n",
        "m = Model('Aço', sense=MAXIMIZE)"
      ],
      "execution_count": 3,
      "outputs": []
    },
    {
      "cell_type": "code",
      "metadata": {
        "id": "NwwIxEV7kq7e"
      },
      "source": [
        "x = [m.add_var(name='x{}'.format(int(i)),var_type=INTEGER,lb=0) for i in range(nvars)]"
      ],
      "execution_count": 4,
      "outputs": []
    },
    {
      "cell_type": "code",
      "metadata": {
        "id": "wfQnmLpsk59D"
      },
      "source": [
        "m.objective = xsum(obj_coef[i]*x[i] for i in range(nvars))"
      ],
      "execution_count": 5,
      "outputs": []
    },
    {
      "cell_type": "code",
      "metadata": {
        "id": "t3kzW81gk__W"
      },
      "source": [
        "for i in range(len(g_val)):\r\n",
        "  m += xsum(g_coef[i][j]*x[j] for j in range(nvars)) <= g_val[i]"
      ],
      "execution_count": 6,
      "outputs": []
    },
    {
      "cell_type": "code",
      "metadata": {
        "id": "BBJZLD6MmBso",
        "colab": {
          "base_uri": "https://localhost:8080/"
        },
        "outputId": "66af321a-5fe1-4415-dd3c-32776ff0480f"
      },
      "source": [
        "m.optimize()"
      ],
      "execution_count": 7,
      "outputs": [
        {
          "output_type": "execute_result",
          "data": {
            "text/plain": [
              "<OptimizationStatus.OPTIMAL: 0>"
            ]
          },
          "metadata": {
            "tags": []
          },
          "execution_count": 7
        }
      ]
    },
    {
      "cell_type": "code",
      "metadata": {
        "id": "V4efJviUmCN5",
        "colab": {
          "base_uri": "https://localhost:8080/"
        },
        "outputId": "5b527064-c0c1-49d4-f7b6-3c1165f599eb"
      },
      "source": [
        "print('Optimal Solution: {}'.format([x[i].x for i in range(nvars)]))"
      ],
      "execution_count": 8,
      "outputs": [
        {
          "output_type": "stream",
          "text": [
            "Optimal Solution: [2040.0, 510.0]\n"
          ],
          "name": "stdout"
        }
      ]
    },
    {
      "cell_type": "markdown",
      "metadata": {
        "id": "fXkQSdiUn0Ii"
      },
      "source": [
        "## 2.b) O Problema dos Fertilizantes"
      ]
    },
    {
      "cell_type": "code",
      "metadata": {
        "id": "KEXolPMkStp0"
      },
      "source": [
        "nvars = 3\r\n",
        "obj_coef = [50, 40, 60]\r\n",
        "g_coef = [[20, 25, 30], #preco de venda\r\n",
        "          [10, 20, 20]] #custo\r\n",
        "\r\n",
        "m = Model('Fertilizantes', sense=MINIMIZE)"
      ],
      "execution_count": 9,
      "outputs": []
    },
    {
      "cell_type": "code",
      "metadata": {
        "id": "1756u4GoUoZr"
      },
      "source": [
        "x = [m.add_var(name='x{}'.format(int(i)),var_type=INTEGER,lb=0) for i in range(nvars)]"
      ],
      "execution_count": 10,
      "outputs": []
    },
    {
      "cell_type": "code",
      "metadata": {
        "id": "5d6kz5Q8cRXK"
      },
      "source": [
        "m.objective = xsum(obj_coef[i]*x[i] for i in range(nvars))"
      ],
      "execution_count": 11,
      "outputs": []
    },
    {
      "cell_type": "code",
      "metadata": {
        "id": "Pjz6o3W4U0sC"
      },
      "source": [
        "m += (xsum(g_coef[0][i]*x[i] for i in range(nvars)) - xsum(g_coef[1][i]*x[i] for i in range(nvars))) >= 100000\r\n",
        "m += xsum(x[i] for i in range(nvars)) >= 12000\r\n",
        "m += xsum(x[i] for i in range(nvars)) <= 15000\r\n",
        "m += x[0] >= 5000"
      ],
      "execution_count": 12,
      "outputs": []
    },
    {
      "cell_type": "code",
      "metadata": {
        "id": "ZY0e5WrLW7P1",
        "colab": {
          "base_uri": "https://localhost:8080/"
        },
        "outputId": "bea61d00-04df-47b7-f478-307d0b85f38a"
      },
      "source": [
        "m.optimize()"
      ],
      "execution_count": 13,
      "outputs": [
        {
          "output_type": "execute_result",
          "data": {
            "text/plain": [
              "<OptimizationStatus.OPTIMAL: 0>"
            ]
          },
          "metadata": {
            "tags": []
          },
          "execution_count": 13
        }
      ]
    },
    {
      "cell_type": "code",
      "metadata": {
        "id": "Zxx0wotYXF_h",
        "colab": {
          "base_uri": "https://localhost:8080/"
        },
        "outputId": "e17d5c6f-903a-4615-af5e-ebd749c103e6"
      },
      "source": [
        "print('Optimal Solution: {}'.format([x[i].x for i in range(nvars)]))"
      ],
      "execution_count": 14,
      "outputs": [
        {
          "output_type": "stream",
          "text": [
            "Optimal Solution: [8000.0, 4000.0, 0.0]\n"
          ],
          "name": "stdout"
        }
      ]
    },
    {
      "cell_type": "markdown",
      "metadata": {
        "id": "VQMVDzgMoN1N"
      },
      "source": [
        ""
      ]
    },
    {
      "cell_type": "markdown",
      "metadata": {
        "id": "RMUIEeAtoP2J"
      },
      "source": [
        "## 2.c) O Problema do Custo de Transporte"
      ]
    },
    {
      "cell_type": "code",
      "metadata": {
        "id": "a-yEWdxM7k5L"
      },
      "source": [
        "cost = [[40,50,55,999999999],\r\n",
        "        [999999999,60,30,50]]\r\n",
        "\r\n",
        "m = Model('Casacos',sense=MINIMIZE)\r\n",
        "\r\n",
        "x = [[m.add_var(var_type=INTEGER,lb=0) for j in range(4)] for i in range(2)]"
      ],
      "execution_count": 15,
      "outputs": []
    },
    {
      "cell_type": "code",
      "metadata": {
        "id": "VHAAjkhI9aUT"
      },
      "source": [
        "m.objective = xsum(cost[i][j]*x[i][j] for i in range(2) for j in range(4))"
      ],
      "execution_count": 16,
      "outputs": []
    },
    {
      "cell_type": "code",
      "metadata": {
        "id": "76EcCyRp9svJ"
      },
      "source": [
        "m += x[1][0] == 0\r\n",
        "m += x[0][3] == 0\r\n",
        "m += xsum(x[0][j] for j in range(4)) == 6000 #capacidade produtiva F1 obrigando a produzir, para a solução não ser zero\r\n",
        "m += xsum(x[1][j] for j in range(4)) == 9000 #capacidade produtiva F1\r\n",
        "m += x[0][0] <= 2500\r\n",
        "m += x[1][3] <= 3500 \r\n",
        "m += xsum(x[i][1] for i in range(2)) <= 4500\r\n",
        "m += xsum(x[i][2] for i in range(2)) <= 5500"
      ],
      "execution_count": 17,
      "outputs": []
    },
    {
      "cell_type": "code",
      "metadata": {
        "id": "z0A2xcai_nen",
        "colab": {
          "base_uri": "https://localhost:8080/"
        },
        "outputId": "f12b5a4c-0f4b-4955-bca9-2289f7e6e222"
      },
      "source": [
        "m.optimize()"
      ],
      "execution_count": 18,
      "outputs": [
        {
          "output_type": "execute_result",
          "data": {
            "text/plain": [
              "<OptimizationStatus.OPTIMAL: 0>"
            ]
          },
          "metadata": {
            "tags": []
          },
          "execution_count": 18
        }
      ]
    },
    {
      "cell_type": "code",
      "metadata": {
        "id": "_i1SW2yD_4q4",
        "colab": {
          "base_uri": "https://localhost:8080/"
        },
        "outputId": "d45a7651-d8dc-4afb-f2ca-5b0769cd92f4"
      },
      "source": [
        "print('Optimal Solution: {}'.format([x[i][j].x for i in range(2) for j in range(4)]))"
      ],
      "execution_count": 19,
      "outputs": [
        {
          "output_type": "stream",
          "text": [
            "Optimal Solution: [2500.0, 3500.0, 0.0, 0.0, 0.0, 0.0, 5500.0, 3500.0]\n"
          ],
          "name": "stdout"
        }
      ]
    },
    {
      "cell_type": "markdown",
      "metadata": {
        "id": "YQWc206apKNw"
      },
      "source": [
        "## 2.d) (Problema das Ligas Metálicas"
      ]
    },
    {
      "cell_type": "code",
      "metadata": {
        "id": "ppknMP43TbI7"
      },
      "source": [
        "nvars = 2\r\n",
        "obj_coef = [3000, 5000]\r\n",
        "g_coef = [[0.5, 0.2],\r\n",
        "          [0.25, 0.3],\r\n",
        "          [0.25, 0.5]]\r\n",
        "\r\n",
        "g_val = [16, 11, 15]\r\n",
        "\r\n",
        "m = Model('Ligas-metalicas', sense=MAXIMIZE)\r\n"
      ],
      "execution_count": 20,
      "outputs": []
    },
    {
      "cell_type": "code",
      "metadata": {
        "id": "UszlGAIHL2Fa"
      },
      "source": [
        "x = [m.add_var(name='x{}'.format(int(i)),var_type=INTEGER,lb=0) for i in range(nvars)]"
      ],
      "execution_count": 21,
      "outputs": []
    },
    {
      "cell_type": "code",
      "metadata": {
        "id": "MC8s9WA4Xld-"
      },
      "source": [
        "m.objective = xsum(obj_coef[i]*x[i] for i in range(nvars))"
      ],
      "execution_count": 22,
      "outputs": []
    },
    {
      "cell_type": "code",
      "metadata": {
        "id": "mS0VhIYRYaHO"
      },
      "source": [
        "for i in range(len(g_val)):\r\n",
        "  m += xsum(g_coef[i][j]*x[j] for j in range(nvars)) <= g_val[i]"
      ],
      "execution_count": 23,
      "outputs": []
    },
    {
      "cell_type": "code",
      "metadata": {
        "colab": {
          "base_uri": "https://localhost:8080/"
        },
        "id": "1dPrWFllc9Ih",
        "outputId": "7177d87c-9e2d-4955-da33-e516ac331580"
      },
      "source": [
        "m.optimize()"
      ],
      "execution_count": 24,
      "outputs": [
        {
          "output_type": "execute_result",
          "data": {
            "text/plain": [
              "<OptimizationStatus.OPTIMAL: 0>"
            ]
          },
          "metadata": {
            "tags": []
          },
          "execution_count": 24
        }
      ]
    },
    {
      "cell_type": "code",
      "metadata": {
        "colab": {
          "base_uri": "https://localhost:8080/"
        },
        "id": "X1p8MT-Veelr",
        "outputId": "8c42f3d3-8970-4e72-d650-476a187817bc"
      },
      "source": [
        "print('Optimal Solution: {}'.format([x[i].x for i in range(nvars)]))"
      ],
      "execution_count": 25,
      "outputs": [
        {
          "output_type": "stream",
          "text": [
            "Optimal Solution: [20.0, 20.0]\n"
          ],
          "name": "stdout"
        }
      ]
    },
    {
      "cell_type": "markdown",
      "metadata": {
        "id": "vhDE8tJhqb7j"
      },
      "source": [
        "## 2.e) Problema da Dieta"
      ]
    },
    {
      "cell_type": "code",
      "metadata": {
        "id": "tY4e2wpC-oOC"
      },
      "source": [
        "nvars = 4\r\n",
        "obj_coef = [2, 4, 1.5, 1]\r\n",
        "g_coef = [[2, 2, 10, 20],\r\n",
        "          [50, 20, 10, 30],\r\n",
        "          [80, 70, 10, 80]\r\n",
        "          ]\r\n",
        "          \r\n",
        "g_val = [11, 70, 250]\r\n",
        "\r\n",
        "m = Model('Dieta', sense=MINIMIZE)"
      ],
      "execution_count": 26,
      "outputs": []
    },
    {
      "cell_type": "code",
      "metadata": {
        "id": "wblXtlJT_bVW"
      },
      "source": [
        "x = [m.add_var(name='x{}'.format(int(i)),var_type=CONTINUOUS,lb=0) for i in range(nvars)]"
      ],
      "execution_count": 27,
      "outputs": []
    },
    {
      "cell_type": "code",
      "metadata": {
        "id": "l1OKHjRW__wp"
      },
      "source": [
        "m.objective = xsum(obj_coef[i]*x[i] for i in range(nvars))"
      ],
      "execution_count": 28,
      "outputs": []
    },
    {
      "cell_type": "code",
      "metadata": {
        "id": "37bXLFUvq15Z"
      },
      "source": [
        "for i in range(len(g_val)):\r\n",
        "  m += xsum(g_coef[i][j]*x[j] for j in range(nvars)) >= g_val[i]"
      ],
      "execution_count": 29,
      "outputs": []
    },
    {
      "cell_type": "code",
      "metadata": {
        "id": "GY8oyj0vBX7t",
        "colab": {
          "base_uri": "https://localhost:8080/"
        },
        "outputId": "755381b0-69b6-4253-99ce-10cd220a4a5f"
      },
      "source": [
        "m.optimize()"
      ],
      "execution_count": 30,
      "outputs": [
        {
          "output_type": "execute_result",
          "data": {
            "text/plain": [
              "<OptimizationStatus.OPTIMAL: 0>"
            ]
          },
          "metadata": {
            "tags": []
          },
          "execution_count": 30
        }
      ]
    },
    {
      "cell_type": "code",
      "metadata": {
        "colab": {
          "base_uri": "https://localhost:8080/"
        },
        "id": "laUnC7EkBb3B",
        "outputId": "43e60bd8-92b0-4c12-c1e3-4fd24f9a47cf"
      },
      "source": [
        "print('Optimal Solution: {}'.format([x[i].x for i in range(nvars)]))"
      ],
      "execution_count": 31,
      "outputs": [
        {
          "output_type": "stream",
          "text": [
            "Optimal Solution: [0.0, 0.0, 0.0, 3.125]\n"
          ],
          "name": "stdout"
        }
      ]
    },
    {
      "cell_type": "markdown",
      "metadata": {
        "id": "7dYDAbMptkD4"
      },
      "source": [
        "## 2.f) Problema da Cooperativa Agrícola"
      ]
    },
    {
      "cell_type": "code",
      "metadata": {
        "id": "NSO5WJVWP7bx"
      },
      "source": [
        "# Área, agua e lucro\r\n",
        "cultura = [[660, 5.5, 5000], #milho\r\n",
        "           [880, 4, 4000], #arroz\r\n",
        "           [400, 3.5, 1800]] #feijao\r\n",
        "\r\n",
        "fazenda = [[400, 1800], # F0\r\n",
        "           [650, 2200], # F1\r\n",
        "           [350, 950]]  # F2"
      ],
      "execution_count": 32,
      "outputs": []
    },
    {
      "cell_type": "code",
      "metadata": {
        "id": "WdFln0wiQ1aD"
      },
      "source": [
        "m = Model('Fazenda', sense=MAXIMIZE)\r\n",
        "\r\n",
        "# x_ij = area que a fazenda i será destinada à cultura j\r\n",
        "x = [[m.add_var(lb=0) for j in range(len(cultura))] for i in range(len(fazenda))]"
      ],
      "execution_count": 33,
      "outputs": []
    },
    {
      "cell_type": "code",
      "metadata": {
        "id": "_wsInt7ARXXE"
      },
      "source": [
        "m.objective = xsum(cultura[i][2]*x[j][i] for i in range(len(cultura)) for j in range(len(fazenda)))"
      ],
      "execution_count": 34,
      "outputs": []
    },
    {
      "cell_type": "code",
      "metadata": {
        "id": "atCxiP7eS6xP"
      },
      "source": [
        "for i in range(len(fazenda)):\r\n",
        "  m += xsum(x[i][j] for j in range(len(cultura))) <= fazenda[i][0]\r\n",
        "  m += xsum(x[i][j] * cultura[j][1] for j in range(len(cultura))) <= fazenda[i][1]\r\n",
        "\r\n",
        "for i in range(len(cultura)):\r\n",
        "  m += xsum(x[j][i] for j in range(len(fazenda))) <= cultura[i][0]"
      ],
      "execution_count": 35,
      "outputs": []
    },
    {
      "cell_type": "code",
      "metadata": {
        "id": "9GLYkRMsUI0C"
      },
      "source": [
        "m += xsum(x[0][i] for i in range(len(cultura)))/fazenda[0][0] == xsum(x[1][i] for i in range(len(cultura)))/fazenda[1][0]\r\n",
        "m += xsum(x[1][i] for i in range(len(cultura)))/fazenda[1][0] == xsum(x[2][i] for i in range(len(cultura)))/fazenda[2][0]"
      ],
      "execution_count": 36,
      "outputs": []
    },
    {
      "cell_type": "code",
      "metadata": {
        "colab": {
          "base_uri": "https://localhost:8080/"
        },
        "id": "zNl6Z9SwWUjI",
        "outputId": "d91c5b84-63d8-456b-afae-2ab3075732e9"
      },
      "source": [
        "m.optimize()"
      ],
      "execution_count": 37,
      "outputs": [
        {
          "output_type": "execute_result",
          "data": {
            "text/plain": [
              "<OptimizationStatus.OPTIMAL: 0>"
            ]
          },
          "metadata": {
            "tags": []
          },
          "execution_count": 37
        }
      ]
    },
    {
      "cell_type": "code",
      "metadata": {
        "colab": {
          "base_uri": "https://localhost:8080/"
        },
        "id": "RGLuEE00WXGy",
        "outputId": "ada7b403-1da0-4755-cf99-10ca9ac9e072"
      },
      "source": [
        "for i in range(len(fazenda)):\r\n",
        "  print([x[i][j].x for j in range(len(cultura))])"
      ],
      "execution_count": 38,
      "outputs": [
        {
          "output_type": "stream",
          "text": [
            "[271.42857142857144, 0.0, 0.0]\n",
            "[290.4761904761904, 150.59523809523816, 0.0]\n",
            "[0.0, 237.5, 0.0]\n"
          ],
          "name": "stdout"
        }
      ]
    },
    {
      "cell_type": "markdown",
      "metadata": {
        "id": "tsSV--SOIc_b"
      },
      "source": [
        "## 2.g) O Problema das Equipes de Engenharia"
      ]
    },
    {
      "cell_type": "code",
      "metadata": {
        "id": "gl66oqaoGDdF"
      },
      "source": [
        "m = Model('Equipes-engenharia', sense=MAXIMIZE)"
      ],
      "execution_count": 39,
      "outputs": []
    },
    {
      "cell_type": "code",
      "metadata": {
        "id": "H6cz7uoRG46r"
      },
      "source": [
        "x[0] = m.add_var(name='G', var_type=CONTINUOUS, lb=0)\r\n",
        "x[1] = m.add_var(name='x', var_type=CONTINUOUS, lb=0)"
      ],
      "execution_count": 40,
      "outputs": []
    },
    {
      "cell_type": "code",
      "metadata": {
        "id": "gTLuJoskLE1f"
      },
      "source": [
        "m.objective = x[0]"
      ],
      "execution_count": 41,
      "outputs": []
    },
    {
      "cell_type": "code",
      "metadata": {
        "id": "o-5FTXDBLJ06"
      },
      "source": [
        "m += x[0] + 40*x[1] <= 80\r\n",
        "m += x[0] - 60*x[1] <= 20\r\n",
        "m += x[0] >= 0\r\n",
        "m += x[0] <= 100\r\n",
        "m += x[1] >= 0\r\n",
        "m += x[1] <= 1"
      ],
      "execution_count": 42,
      "outputs": []
    },
    {
      "cell_type": "code",
      "metadata": {
        "colab": {
          "base_uri": "https://localhost:8080/"
        },
        "id": "l6gwyax4LvFk",
        "outputId": "e3d40249-6530-496f-d226-7a45d4a799c8"
      },
      "source": [
        "m.optimize()"
      ],
      "execution_count": 43,
      "outputs": [
        {
          "output_type": "execute_result",
          "data": {
            "text/plain": [
              "<OptimizationStatus.OPTIMAL: 0>"
            ]
          },
          "metadata": {
            "tags": []
          },
          "execution_count": 43
        }
      ]
    },
    {
      "cell_type": "code",
      "metadata": {
        "colab": {
          "base_uri": "https://localhost:8080/"
        },
        "id": "_ru-TNhsL0D8",
        "outputId": "d79c7a97-068c-438c-c78e-19b934e53ee4"
      },
      "source": [
        "print('Optimal Solution: {}'.format([x[i].x for i in range(2)]))"
      ],
      "execution_count": 44,
      "outputs": [
        {
          "output_type": "stream",
          "text": [
            "Optimal Solution: [56.000000000000014, 0.5999999999999996]\n"
          ],
          "name": "stdout"
        }
      ]
    },
    {
      "cell_type": "markdown",
      "metadata": {
        "id": "0_KBiCZIwOAF"
      },
      "source": [
        "## 2.h) O Problema da Pequena Fábrica"
      ]
    },
    {
      "cell_type": "code",
      "metadata": {
        "id": "2Wq8m-nfham9"
      },
      "source": [
        "nvars = 2\r\n",
        "obj_coef = [2, 5]\r\n",
        "g_coef = [[3, 4],\r\n",
        "          [9, 7]]\r\n",
        "\r\n",
        "g_val = [200, 300]\r\n",
        "\r\n",
        "m = Model('Fabrica', sense=MAXIMIZE)"
      ],
      "execution_count": 45,
      "outputs": []
    },
    {
      "cell_type": "code",
      "metadata": {
        "id": "9jCMYwnTimSy"
      },
      "source": [
        "x = [m.add_var(name='x{}'.format(int(i)),var_type=INTEGER,lb=0) for i in range(nvars)]"
      ],
      "execution_count": 46,
      "outputs": []
    },
    {
      "cell_type": "code",
      "metadata": {
        "id": "NVWWSsYhirWV"
      },
      "source": [
        "m.objective = xsum(obj_coef[i]*x[i] for i in range(nvars))"
      ],
      "execution_count": 47,
      "outputs": []
    },
    {
      "cell_type": "code",
      "metadata": {
        "id": "3yUEL4zfiyqV"
      },
      "source": [
        "for i in range(len(g_val)):\r\n",
        "  m += xsum(g_coef[i][j]*x[j] for j in range(nvars)) <= g_val[i]"
      ],
      "execution_count": 48,
      "outputs": []
    },
    {
      "cell_type": "code",
      "metadata": {
        "id": "AyFY8hArjEsj",
        "colab": {
          "base_uri": "https://localhost:8080/"
        },
        "outputId": "4590b969-9975-45e9-db2f-067f09d8a58f"
      },
      "source": [
        "m.optimize()"
      ],
      "execution_count": 49,
      "outputs": [
        {
          "output_type": "execute_result",
          "data": {
            "text/plain": [
              "<OptimizationStatus.OPTIMAL: 0>"
            ]
          },
          "metadata": {
            "tags": []
          },
          "execution_count": 49
        }
      ]
    },
    {
      "cell_type": "code",
      "metadata": {
        "colab": {
          "base_uri": "https://localhost:8080/"
        },
        "id": "acmanXCGjHJR",
        "outputId": "f38440e1-6bec-4dbe-dfd9-5212086b4508"
      },
      "source": [
        "print('Optimal Solution: {}'.format([x[i].x for i in range(nvars)]))"
      ],
      "execution_count": 50,
      "outputs": [
        {
          "output_type": "stream",
          "text": [
            "Optimal Solution: [0.0, 42.0]\n"
          ],
          "name": "stdout"
        }
      ]
    },
    {
      "cell_type": "markdown",
      "metadata": {
        "id": "9SQkLJZFx3an"
      },
      "source": [
        "## 2.i) O Problema da Fábrica de Camisas"
      ]
    },
    {
      "cell_type": "code",
      "metadata": {
        "id": "iqU3nOQbKPQ4"
      },
      "source": [
        "nvars = 2\r\n",
        "obj_coef = [5, 3.5]\r\n",
        "\r\n",
        "m = Model('Fábica-de-camisas', sense=MAXIMIZE)"
      ],
      "execution_count": 51,
      "outputs": []
    },
    {
      "cell_type": "code",
      "metadata": {
        "id": "fWQuyPnSNG_9"
      },
      "source": [
        "x = [m.add_var(name='x{}'.format(int(i)),var_type=INTEGER,lb=0) for i in range(nvars)]"
      ],
      "execution_count": 52,
      "outputs": []
    },
    {
      "cell_type": "code",
      "metadata": {
        "id": "qn_MDhjTNLOW"
      },
      "source": [
        "m.objective = xsum(obj_coef[i]*x[i] for i in range(nvars))"
      ],
      "execution_count": 53,
      "outputs": []
    },
    {
      "cell_type": "code",
      "metadata": {
        "id": "YkQkmtr6NOHG"
      },
      "source": [
        "m += x[0] <= 150\r\n",
        "m += x[1] <= 300\r\n",
        "m += ( (1.5*x[0]) + x[1] ) == 400"
      ],
      "execution_count": 54,
      "outputs": []
    },
    {
      "cell_type": "code",
      "metadata": {
        "colab": {
          "base_uri": "https://localhost:8080/"
        },
        "id": "8ipVBHaVQ-gN",
        "outputId": "e6aab0ff-40cb-4be4-810d-f5d29b27f603"
      },
      "source": [
        "m.optimize()"
      ],
      "execution_count": 55,
      "outputs": [
        {
          "output_type": "execute_result",
          "data": {
            "text/plain": [
              "<OptimizationStatus.OPTIMAL: 0>"
            ]
          },
          "metadata": {
            "tags": []
          },
          "execution_count": 55
        }
      ]
    },
    {
      "cell_type": "code",
      "metadata": {
        "colab": {
          "base_uri": "https://localhost:8080/"
        },
        "id": "BBEN3hMkRCBq",
        "outputId": "63188d9a-fa41-4ac8-9efc-698cb1963c38"
      },
      "source": [
        "print('Optimal Solution: {}'.format([x[i].x for i in range(nvars)]))"
      ],
      "execution_count": 56,
      "outputs": [
        {
          "output_type": "stream",
          "text": [
            "Optimal Solution: [68.0, 298.0]\n"
          ],
          "name": "stdout"
        }
      ]
    }
  ]
}